{
 "cells": [
  {
   "cell_type": "markdown",
   "metadata": {},
   "source": [
    "# AFL \n",
    "\n",
    "https://www.aussportsbetting.com/data/historical-nrl-results-and-odds-data/"
   ]
  },
  {
   "cell_type": "code",
   "execution_count": 1,
   "metadata": {},
   "outputs": [
    {
     "data": {
      "text/html": [
       "<div>\n",
       "<style scoped>\n",
       "    .dataframe tbody tr th:only-of-type {\n",
       "        vertical-align: middle;\n",
       "    }\n",
       "\n",
       "    .dataframe tbody tr th {\n",
       "        vertical-align: top;\n",
       "    }\n",
       "\n",
       "    .dataframe thead th {\n",
       "        text-align: right;\n",
       "    }\n",
       "</style>\n",
       "<table border=\"1\" class=\"dataframe\">\n",
       "  <thead>\n",
       "    <tr style=\"text-align: right;\">\n",
       "      <th></th>\n",
       "      <th>Date</th>\n",
       "      <th>Kick Off (local)</th>\n",
       "      <th>Home Team</th>\n",
       "      <th>Away Team</th>\n",
       "      <th>Venue</th>\n",
       "      <th>Home Score</th>\n",
       "      <th>Away Score</th>\n",
       "      <th>Play Off Game?</th>\n",
       "      <th>Home Goals</th>\n",
       "      <th>Home Behinds</th>\n",
       "      <th>Away Goals</th>\n",
       "      <th>Away Behinds</th>\n",
       "      <th>Home Odds</th>\n",
       "      <th>Away Odds</th>\n",
       "      <th>Bookmakers Surveyed</th>\n",
       "      <th>Notes</th>\n",
       "    </tr>\n",
       "  </thead>\n",
       "  <tbody>\n",
       "    <tr>\n",
       "      <th>0</th>\n",
       "      <td>24-Oct-20</td>\n",
       "      <td>18:30</td>\n",
       "      <td>Richmond</td>\n",
       "      <td>Geelong</td>\n",
       "      <td>Gabba</td>\n",
       "      <td>81</td>\n",
       "      <td>50</td>\n",
       "      <td>Y</td>\n",
       "      <td>12</td>\n",
       "      <td>9</td>\n",
       "      <td>7</td>\n",
       "      <td>8</td>\n",
       "      <td>1.83</td>\n",
       "      <td>1.97</td>\n",
       "      <td>10</td>\n",
       "      <td>NaN</td>\n",
       "    </tr>\n",
       "    <tr>\n",
       "      <th>1</th>\n",
       "      <td>17-Oct-20</td>\n",
       "      <td>18:40</td>\n",
       "      <td>Brisbane</td>\n",
       "      <td>Geelong</td>\n",
       "      <td>Gabba</td>\n",
       "      <td>42</td>\n",
       "      <td>82</td>\n",
       "      <td>Y</td>\n",
       "      <td>6</td>\n",
       "      <td>6</td>\n",
       "      <td>11</td>\n",
       "      <td>16</td>\n",
       "      <td>1.79</td>\n",
       "      <td>2.01</td>\n",
       "      <td>10</td>\n",
       "      <td>NaN</td>\n",
       "    </tr>\n",
       "    <tr>\n",
       "      <th>2</th>\n",
       "      <td>16-Oct-20</td>\n",
       "      <td>19:20</td>\n",
       "      <td>Port Adelaide</td>\n",
       "      <td>Richmond</td>\n",
       "      <td>Adelaide Oval</td>\n",
       "      <td>40</td>\n",
       "      <td>46</td>\n",
       "      <td>Y</td>\n",
       "      <td>6</td>\n",
       "      <td>4</td>\n",
       "      <td>6</td>\n",
       "      <td>10</td>\n",
       "      <td>1.73</td>\n",
       "      <td>2.09</td>\n",
       "      <td>10</td>\n",
       "      <td>NaN</td>\n",
       "    </tr>\n",
       "    <tr>\n",
       "      <th>3</th>\n",
       "      <td>10-Oct-20</td>\n",
       "      <td>18:40</td>\n",
       "      <td>Geelong</td>\n",
       "      <td>Collingwood</td>\n",
       "      <td>Gabba</td>\n",
       "      <td>100</td>\n",
       "      <td>32</td>\n",
       "      <td>Y</td>\n",
       "      <td>15</td>\n",
       "      <td>10</td>\n",
       "      <td>5</td>\n",
       "      <td>2</td>\n",
       "      <td>1.60</td>\n",
       "      <td>2.33</td>\n",
       "      <td>10</td>\n",
       "      <td>NaN</td>\n",
       "    </tr>\n",
       "    <tr>\n",
       "      <th>4</th>\n",
       "      <td>09-Oct-20</td>\n",
       "      <td>18:50</td>\n",
       "      <td>Richmond</td>\n",
       "      <td>St Kilda</td>\n",
       "      <td>Metricon Stadium</td>\n",
       "      <td>80</td>\n",
       "      <td>49</td>\n",
       "      <td>Y</td>\n",
       "      <td>12</td>\n",
       "      <td>8</td>\n",
       "      <td>6</td>\n",
       "      <td>13</td>\n",
       "      <td>1.26</td>\n",
       "      <td>3.88</td>\n",
       "      <td>9</td>\n",
       "      <td>NaN</td>\n",
       "    </tr>\n",
       "  </tbody>\n",
       "</table>\n",
       "</div>"
      ],
      "text/plain": [
       "        Date Kick Off (local)      Home Team    Away Team             Venue  \\\n",
       "0  24-Oct-20            18:30       Richmond      Geelong             Gabba   \n",
       "1  17-Oct-20            18:40       Brisbane      Geelong             Gabba   \n",
       "2  16-Oct-20            19:20  Port Adelaide     Richmond     Adelaide Oval   \n",
       "3  10-Oct-20            18:40        Geelong  Collingwood             Gabba   \n",
       "4  09-Oct-20            18:50       Richmond     St Kilda  Metricon Stadium   \n",
       "\n",
       "   Home Score  Away Score Play Off Game?  Home Goals  Home Behinds  \\\n",
       "0          81          50              Y          12             9   \n",
       "1          42          82              Y           6             6   \n",
       "2          40          46              Y           6             4   \n",
       "3         100          32              Y          15            10   \n",
       "4          80          49              Y          12             8   \n",
       "\n",
       "   Away Goals  Away Behinds  Home Odds  Away Odds  Bookmakers Surveyed Notes  \n",
       "0           7             8       1.83       1.97                   10   NaN  \n",
       "1          11            16       1.79       2.01                   10   NaN  \n",
       "2           6            10       1.73       2.09                   10   NaN  \n",
       "3           5             2       1.60       2.33                   10   NaN  \n",
       "4           6            13       1.26       3.88                    9   NaN  "
      ]
     },
     "execution_count": 1,
     "metadata": {},
     "output_type": "execute_result"
    }
   ],
   "source": [
    "import pandas as pd\n",
    "df = pd.read_csv('AFL.CSV')\n",
    "df.head()"
   ]
  },
  {
   "cell_type": "markdown",
   "metadata": {},
   "source": [
    "## Arbitrage"
   ]
  },
  {
   "cell_type": "code",
   "execution_count": 2,
   "metadata": {},
   "outputs": [],
   "source": [
    "df['arb'] = 1/df['Home Odds'] + 1/df['Away Odds']"
   ]
  },
  {
   "cell_type": "code",
   "execution_count": 3,
   "metadata": {},
   "outputs": [
    {
     "data": {
      "text/html": [
       "<div>\n",
       "<style scoped>\n",
       "    .dataframe tbody tr th:only-of-type {\n",
       "        vertical-align: middle;\n",
       "    }\n",
       "\n",
       "    .dataframe tbody tr th {\n",
       "        vertical-align: top;\n",
       "    }\n",
       "\n",
       "    .dataframe thead th {\n",
       "        text-align: right;\n",
       "    }\n",
       "</style>\n",
       "<table border=\"1\" class=\"dataframe\">\n",
       "  <thead>\n",
       "    <tr style=\"text-align: right;\">\n",
       "      <th></th>\n",
       "      <th>Date</th>\n",
       "      <th>Kick Off (local)</th>\n",
       "      <th>Home Team</th>\n",
       "      <th>Away Team</th>\n",
       "      <th>Venue</th>\n",
       "      <th>Home Score</th>\n",
       "      <th>Away Score</th>\n",
       "      <th>Play Off Game?</th>\n",
       "      <th>Home Goals</th>\n",
       "      <th>Home Behinds</th>\n",
       "      <th>Away Goals</th>\n",
       "      <th>Away Behinds</th>\n",
       "      <th>Home Odds</th>\n",
       "      <th>Away Odds</th>\n",
       "      <th>Bookmakers Surveyed</th>\n",
       "      <th>Notes</th>\n",
       "      <th>arb</th>\n",
       "    </tr>\n",
       "  </thead>\n",
       "  <tbody>\n",
       "  </tbody>\n",
       "</table>\n",
       "</div>"
      ],
      "text/plain": [
       "Empty DataFrame\n",
       "Columns: [Date, Kick Off (local), Home Team, Away Team, Venue, Home Score, Away Score, Play Off Game?, Home Goals, Home Behinds, Away Goals, Away Behinds, Home Odds, Away Odds, Bookmakers Surveyed, Notes, arb]\n",
       "Index: []"
      ]
     },
     "execution_count": 3,
     "metadata": {},
     "output_type": "execute_result"
    }
   ],
   "source": [
    "df[df['arb']<1]"
   ]
  },
  {
   "cell_type": "markdown",
   "metadata": {},
   "source": [
    "## Playing the Favourite"
   ]
  },
  {
   "cell_type": "code",
   "execution_count": 40,
   "metadata": {},
   "outputs": [
    {
     "name": "stdout",
     "output_type": "stream",
     "text": [
      "208.65007781281687\n"
     ]
    }
   ],
   "source": [
    "def bet(r):\n",
    "    multiplier = min( r['Home Odds'] , r['Away Odds'] )\n",
    "    return 60 * max( r['Home Odds'] , r['Away Odds'] ) / multiplier\n",
    "\n",
    "df['bet'] = df.apply(bet, axis=1)\n",
    "print(df['bet'].sum()/df['bet'].count())"
   ]
  },
  {
   "cell_type": "code",
   "execution_count": 42,
   "metadata": {},
   "outputs": [],
   "source": [
    "def payout(r):\n",
    "    favodds = min( r['Home Odds'] , r['Away Odds'] ) - 1\n",
    "    bet = r['bet']\n",
    "    # draw\n",
    "    if r['Home Score']==r['Away Score']:\n",
    "        return bet*-1\n",
    "    # home favourite\n",
    "    if r['Home Odds'] < r['Away Odds']:\n",
    "        # home loss\n",
    "        if r['Home Score'] < r['Away Score']:\n",
    "            return bet*-1\n",
    "        # home win\n",
    "        return bet*favodds\n",
    "    # away favourite\n",
    "    if r['Away Odds'] < r['Home Odds']:\n",
    "        # away loss\n",
    "        if r['Away Score'] < r['Home Score']:\n",
    "            return bet*-1\n",
    "        # away win\n",
    "        return bet*favodds\n",
    "    return 0"
   ]
  },
  {
   "cell_type": "code",
   "execution_count": 43,
   "metadata": {},
   "outputs": [],
   "source": [
    "df['favourite payout'] = df.apply(payout, axis=1)"
   ]
  },
  {
   "cell_type": "code",
   "execution_count": 45,
   "metadata": {},
   "outputs": [
    {
     "name": "stdout",
     "output_type": "stream",
     "text": [
      "-17865.328269163427\n"
     ]
    }
   ],
   "source": [
    "print(df['favourite payout'].sum())"
   ]
  },
  {
   "cell_type": "code",
   "execution_count": 46,
   "metadata": {},
   "outputs": [
    {
     "data": {
      "text/plain": [
       "Year\n",
       "2009   -1355.999414\n",
       "2010   -2491.386611\n",
       "2011     -52.747204\n",
       "2012   -1716.009412\n",
       "2013   -1348.581104\n",
       "2014   -2755.121043\n",
       "2015   -1775.429789\n",
       "2016   -1537.697643\n",
       "2017   -2777.211081\n",
       "2018   -1243.709339\n",
       "2019   -1681.299491\n",
       "2020     869.863861\n",
       "Name: favourite payout, dtype: float64"
      ]
     },
     "execution_count": 46,
     "metadata": {},
     "output_type": "execute_result"
    }
   ],
   "source": [
    "df['Date'] = pd.to_datetime(df['Date'])\n",
    "df['Year'] = df['Date'].dt.year \n",
    "df['Month'] = df['Date'].dt.month \n",
    "df.groupby('Year')['favourite payout'].sum()"
   ]
  },
  {
   "cell_type": "code",
   "execution_count": 47,
   "metadata": {},
   "outputs": [
    {
     "data": {
      "text/plain": [
       "Month\n",
       "3    -2052.767821\n",
       "4    -3187.184581\n",
       "5    -3888.861738\n",
       "6    -1813.506804\n",
       "7    -4263.123541\n",
       "8    -1450.216323\n",
       "9    -1059.839883\n",
       "10    -149.827578\n",
       "Name: favourite payout, dtype: float64"
      ]
     },
     "execution_count": 47,
     "metadata": {},
     "output_type": "execute_result"
    }
   ],
   "source": [
    "df.groupby('Month')['favourite payout'].sum()"
   ]
  },
  {
   "cell_type": "code",
   "execution_count": 48,
   "metadata": {},
   "outputs": [
    {
     "data": {
      "text/html": [
       "<div>\n",
       "<style scoped>\n",
       "    .dataframe tbody tr th:only-of-type {\n",
       "        vertical-align: middle;\n",
       "    }\n",
       "\n",
       "    .dataframe tbody tr th {\n",
       "        vertical-align: top;\n",
       "    }\n",
       "\n",
       "    .dataframe thead th {\n",
       "        text-align: right;\n",
       "    }\n",
       "</style>\n",
       "<table border=\"1\" class=\"dataframe\">\n",
       "  <thead>\n",
       "    <tr style=\"text-align: right;\">\n",
       "      <th></th>\n",
       "      <th>Date</th>\n",
       "      <th>Kick Off (local)</th>\n",
       "      <th>Home Team</th>\n",
       "      <th>Away Team</th>\n",
       "      <th>Venue</th>\n",
       "      <th>Home Score</th>\n",
       "      <th>Away Score</th>\n",
       "      <th>Play Off Game?</th>\n",
       "      <th>Home Goals</th>\n",
       "      <th>Home Behinds</th>\n",
       "      <th>...</th>\n",
       "      <th>Away Behinds</th>\n",
       "      <th>Home Odds</th>\n",
       "      <th>Away Odds</th>\n",
       "      <th>Bookmakers Surveyed</th>\n",
       "      <th>Notes</th>\n",
       "      <th>arb</th>\n",
       "      <th>bet</th>\n",
       "      <th>favourite payout</th>\n",
       "      <th>Year</th>\n",
       "      <th>Month</th>\n",
       "    </tr>\n",
       "  </thead>\n",
       "  <tbody>\n",
       "    <tr>\n",
       "      <th>0</th>\n",
       "      <td>2020-10-24</td>\n",
       "      <td>18:30</td>\n",
       "      <td>Richmond</td>\n",
       "      <td>Geelong</td>\n",
       "      <td>Gabba</td>\n",
       "      <td>81</td>\n",
       "      <td>50</td>\n",
       "      <td>Y</td>\n",
       "      <td>12</td>\n",
       "      <td>9</td>\n",
       "      <td>...</td>\n",
       "      <td>8</td>\n",
       "      <td>1.83</td>\n",
       "      <td>1.97</td>\n",
       "      <td>10</td>\n",
       "      <td>NaN</td>\n",
       "      <td>1.054062</td>\n",
       "      <td>64.590164</td>\n",
       "      <td>53.609836</td>\n",
       "      <td>2020</td>\n",
       "      <td>10</td>\n",
       "    </tr>\n",
       "    <tr>\n",
       "      <th>1</th>\n",
       "      <td>2020-10-17</td>\n",
       "      <td>18:40</td>\n",
       "      <td>Brisbane</td>\n",
       "      <td>Geelong</td>\n",
       "      <td>Gabba</td>\n",
       "      <td>42</td>\n",
       "      <td>82</td>\n",
       "      <td>Y</td>\n",
       "      <td>6</td>\n",
       "      <td>6</td>\n",
       "      <td>...</td>\n",
       "      <td>16</td>\n",
       "      <td>1.79</td>\n",
       "      <td>2.01</td>\n",
       "      <td>10</td>\n",
       "      <td>NaN</td>\n",
       "      <td>1.056172</td>\n",
       "      <td>67.374302</td>\n",
       "      <td>-67.374302</td>\n",
       "      <td>2020</td>\n",
       "      <td>10</td>\n",
       "    </tr>\n",
       "    <tr>\n",
       "      <th>2</th>\n",
       "      <td>2020-10-16</td>\n",
       "      <td>19:20</td>\n",
       "      <td>Port Adelaide</td>\n",
       "      <td>Richmond</td>\n",
       "      <td>Adelaide Oval</td>\n",
       "      <td>40</td>\n",
       "      <td>46</td>\n",
       "      <td>Y</td>\n",
       "      <td>6</td>\n",
       "      <td>4</td>\n",
       "      <td>...</td>\n",
       "      <td>10</td>\n",
       "      <td>1.73</td>\n",
       "      <td>2.09</td>\n",
       "      <td>10</td>\n",
       "      <td>NaN</td>\n",
       "      <td>1.056504</td>\n",
       "      <td>72.485549</td>\n",
       "      <td>-72.485549</td>\n",
       "      <td>2020</td>\n",
       "      <td>10</td>\n",
       "    </tr>\n",
       "    <tr>\n",
       "      <th>3</th>\n",
       "      <td>2020-10-10</td>\n",
       "      <td>18:40</td>\n",
       "      <td>Geelong</td>\n",
       "      <td>Collingwood</td>\n",
       "      <td>Gabba</td>\n",
       "      <td>100</td>\n",
       "      <td>32</td>\n",
       "      <td>Y</td>\n",
       "      <td>15</td>\n",
       "      <td>10</td>\n",
       "      <td>...</td>\n",
       "      <td>2</td>\n",
       "      <td>1.60</td>\n",
       "      <td>2.33</td>\n",
       "      <td>10</td>\n",
       "      <td>NaN</td>\n",
       "      <td>1.054185</td>\n",
       "      <td>87.375000</td>\n",
       "      <td>52.425000</td>\n",
       "      <td>2020</td>\n",
       "      <td>10</td>\n",
       "    </tr>\n",
       "    <tr>\n",
       "      <th>4</th>\n",
       "      <td>2020-10-09</td>\n",
       "      <td>18:50</td>\n",
       "      <td>Richmond</td>\n",
       "      <td>St Kilda</td>\n",
       "      <td>Metricon Stadium</td>\n",
       "      <td>80</td>\n",
       "      <td>49</td>\n",
       "      <td>Y</td>\n",
       "      <td>12</td>\n",
       "      <td>8</td>\n",
       "      <td>...</td>\n",
       "      <td>13</td>\n",
       "      <td>1.26</td>\n",
       "      <td>3.88</td>\n",
       "      <td>9</td>\n",
       "      <td>NaN</td>\n",
       "      <td>1.051383</td>\n",
       "      <td>184.761905</td>\n",
       "      <td>48.038095</td>\n",
       "      <td>2020</td>\n",
       "      <td>10</td>\n",
       "    </tr>\n",
       "  </tbody>\n",
       "</table>\n",
       "<p>5 rows × 21 columns</p>\n",
       "</div>"
      ],
      "text/plain": [
       "        Date Kick Off (local)      Home Team    Away Team             Venue  \\\n",
       "0 2020-10-24            18:30       Richmond      Geelong             Gabba   \n",
       "1 2020-10-17            18:40       Brisbane      Geelong             Gabba   \n",
       "2 2020-10-16            19:20  Port Adelaide     Richmond     Adelaide Oval   \n",
       "3 2020-10-10            18:40        Geelong  Collingwood             Gabba   \n",
       "4 2020-10-09            18:50       Richmond     St Kilda  Metricon Stadium   \n",
       "\n",
       "   Home Score  Away Score Play Off Game?  Home Goals  Home Behinds  ...  \\\n",
       "0          81          50              Y          12             9  ...   \n",
       "1          42          82              Y           6             6  ...   \n",
       "2          40          46              Y           6             4  ...   \n",
       "3         100          32              Y          15            10  ...   \n",
       "4          80          49              Y          12             8  ...   \n",
       "\n",
       "   Away Behinds  Home Odds  Away Odds  Bookmakers Surveyed  Notes       arb  \\\n",
       "0             8       1.83       1.97                   10    NaN  1.054062   \n",
       "1            16       1.79       2.01                   10    NaN  1.056172   \n",
       "2            10       1.73       2.09                   10    NaN  1.056504   \n",
       "3             2       1.60       2.33                   10    NaN  1.054185   \n",
       "4            13       1.26       3.88                    9    NaN  1.051383   \n",
       "\n",
       "          bet  favourite payout  Year  Month  \n",
       "0   64.590164         53.609836  2020     10  \n",
       "1   67.374302        -67.374302  2020     10  \n",
       "2   72.485549        -72.485549  2020     10  \n",
       "3   87.375000         52.425000  2020     10  \n",
       "4  184.761905         48.038095  2020     10  \n",
       "\n",
       "[5 rows x 21 columns]"
      ]
     },
     "execution_count": 48,
     "metadata": {},
     "output_type": "execute_result"
    }
   ],
   "source": [
    "df.head()"
   ]
  },
  {
   "cell_type": "code",
   "execution_count": 49,
   "metadata": {},
   "outputs": [
    {
     "data": {
      "text/plain": [
       "<AxesSubplot:>"
      ]
     },
     "execution_count": 49,
     "metadata": {},
     "output_type": "execute_result"
    },
    {
     "data": {
      "image/png": "[encoded data removed]",
      "text/plain": [
       "<Figure size 432x288 with 1 Axes>"
      ]
     },
     "metadata": {
      "needs_background": "light"
     },
     "output_type": "display_data"
    }
   ],
   "source": [
    "df['favourite payout'].cumsum().plot()"
   ]
  },
  {
   "cell_type": "code",
   "execution_count": 50,
   "metadata": {},
   "outputs": [
    {
     "data": {
      "text/plain": [
       "<AxesSubplot:>"
      ]
     },
     "execution_count": 50,
     "metadata": {},
     "output_type": "execute_result"
    },
    {
     "data": {
      "image/png": "[encoded data removed]",
      "text/plain": [
       "<Figure size 432x288 with 1 Axes>"
      ]
     },
     "metadata": {
      "needs_background": "light"
     },
     "output_type": "display_data"
    }
   ],
   "source": [
    "df.query('Year==2020')['favourite payout'].cumsum().plot()"
   ]
  },
  {
   "cell_type": "code",
   "execution_count": null,
   "metadata": {},
   "outputs": [],
   "source": []
  }
 ],
 "metadata": {
  "kernelspec": {
   "display_name": "Python 3",
   "language": "python",
   "name": "python3"
  },
  "language_info": {
   "codemirror_mode": {
    "name": "ipython",
    "version": 3
   },
   "file_extension": ".py",
   "mimetype": "text/x-python",
   "name": "python",
   "nbconvert_exporter": "python",
   "pygments_lexer": "ipython3",
   "version": "3.8.5"
  }
 },
 "nbformat": 4,
 "nbformat_minor": 4
}

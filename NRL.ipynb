{
 "cells": [
  {
   "cell_type": "markdown",
   "metadata": {},
   "source": [
    "# NRL \n",
    "\n",
    "https://www.aussportsbetting.com/data/historical-nrl-results-and-odds-data/"
   ]
  },
  {
   "cell_type": "code",
   "execution_count": 2,
   "metadata": {},
   "outputs": [
    {
     "data": {
      "text/html": [
       "<div>\n",
       "<style scoped>\n",
       "    .dataframe tbody tr th:only-of-type {\n",
       "        vertical-align: middle;\n",
       "    }\n",
       "\n",
       "    .dataframe tbody tr th {\n",
       "        vertical-align: top;\n",
       "    }\n",
       "\n",
       "    .dataframe thead th {\n",
       "        text-align: right;\n",
       "    }\n",
       "</style>\n",
       "<table border=\"1\" class=\"dataframe\">\n",
       "  <thead>\n",
       "    <tr style=\"text-align: right;\">\n",
       "      <th></th>\n",
       "      <th>Date</th>\n",
       "      <th>Kick-off (local)</th>\n",
       "      <th>Home Team</th>\n",
       "      <th>Away Team</th>\n",
       "      <th>Home Score</th>\n",
       "      <th>Away Score</th>\n",
       "      <th>Play Off Game?</th>\n",
       "      <th>Over Time?</th>\n",
       "      <th>Home Odds</th>\n",
       "      <th>Draw Odds</th>\n",
       "      <th>Away Odds</th>\n",
       "      <th>Notes</th>\n",
       "    </tr>\n",
       "  </thead>\n",
       "  <tbody>\n",
       "    <tr>\n",
       "      <th>0</th>\n",
       "      <td>25-Oct-20</td>\n",
       "      <td>19:30</td>\n",
       "      <td>Penrith Panthers</td>\n",
       "      <td>Melbourne Storm</td>\n",
       "      <td>20.0</td>\n",
       "      <td>26.0</td>\n",
       "      <td>Y</td>\n",
       "      <td>NaN</td>\n",
       "      <td>2.24</td>\n",
       "      <td>19.22</td>\n",
       "      <td>1.70</td>\n",
       "      <td>NaN</td>\n",
       "    </tr>\n",
       "    <tr>\n",
       "      <th>1</th>\n",
       "      <td>17-Oct-20</td>\n",
       "      <td>19:50</td>\n",
       "      <td>Penrith Panthers</td>\n",
       "      <td>South Sydney Rabbitohs</td>\n",
       "      <td>20.0</td>\n",
       "      <td>16.0</td>\n",
       "      <td>Y</td>\n",
       "      <td>NaN</td>\n",
       "      <td>1.38</td>\n",
       "      <td>23.20</td>\n",
       "      <td>3.18</td>\n",
       "      <td>NaN</td>\n",
       "    </tr>\n",
       "    <tr>\n",
       "      <th>2</th>\n",
       "      <td>16-Oct-20</td>\n",
       "      <td>18:50</td>\n",
       "      <td>Melbourne Storm</td>\n",
       "      <td>Canberra Raiders</td>\n",
       "      <td>30.0</td>\n",
       "      <td>10.0</td>\n",
       "      <td>Y</td>\n",
       "      <td>NaN</td>\n",
       "      <td>1.45</td>\n",
       "      <td>21.40</td>\n",
       "      <td>2.86</td>\n",
       "      <td>Played at Suncorp Stadium</td>\n",
       "    </tr>\n",
       "    <tr>\n",
       "      <th>3</th>\n",
       "      <td>10-Oct-20</td>\n",
       "      <td>19:50</td>\n",
       "      <td>Parramatta Eels</td>\n",
       "      <td>South Sydney Rabbitohs</td>\n",
       "      <td>24.0</td>\n",
       "      <td>38.0</td>\n",
       "      <td>Y</td>\n",
       "      <td>NaN</td>\n",
       "      <td>3.57</td>\n",
       "      <td>24.50</td>\n",
       "      <td>1.30</td>\n",
       "      <td>NaN</td>\n",
       "    </tr>\n",
       "    <tr>\n",
       "      <th>4</th>\n",
       "      <td>9-Oct-20</td>\n",
       "      <td>19:50</td>\n",
       "      <td>Sydney Roosters</td>\n",
       "      <td>Canberra Raiders</td>\n",
       "      <td>18.0</td>\n",
       "      <td>22.0</td>\n",
       "      <td>Y</td>\n",
       "      <td>NaN</td>\n",
       "      <td>1.43</td>\n",
       "      <td>21.90</td>\n",
       "      <td>2.91</td>\n",
       "      <td>NaN</td>\n",
       "    </tr>\n",
       "  </tbody>\n",
       "</table>\n",
       "</div>"
      ],
      "text/plain": [
       "        Date Kick-off (local)         Home Team               Away Team  \\\n",
       "0  25-Oct-20            19:30  Penrith Panthers         Melbourne Storm   \n",
       "1  17-Oct-20            19:50  Penrith Panthers  South Sydney Rabbitohs   \n",
       "2  16-Oct-20            18:50   Melbourne Storm        Canberra Raiders   \n",
       "3  10-Oct-20            19:50   Parramatta Eels  South Sydney Rabbitohs   \n",
       "4   9-Oct-20            19:50   Sydney Roosters        Canberra Raiders   \n",
       "\n",
       "   Home Score  Away Score Play Off Game? Over Time?  Home Odds  Draw Odds  \\\n",
       "0        20.0        26.0              Y        NaN       2.24      19.22   \n",
       "1        20.0        16.0              Y        NaN       1.38      23.20   \n",
       "2        30.0        10.0              Y        NaN       1.45      21.40   \n",
       "3        24.0        38.0              Y        NaN       3.57      24.50   \n",
       "4        18.0        22.0              Y        NaN       1.43      21.90   \n",
       "\n",
       "   Away Odds                      Notes  \n",
       "0       1.70                        NaN  \n",
       "1       3.18                        NaN  \n",
       "2       2.86  Played at Suncorp Stadium  \n",
       "3       1.30                        NaN  \n",
       "4       2.91                        NaN  "
      ]
     },
     "execution_count": 2,
     "metadata": {},
     "output_type": "execute_result"
    }
   ],
   "source": [
    "import pandas as pd\n",
    "df = pd.read_csv('NRL.CSV')\n",
    "df.drop(df.columns[12], axis=1, inplace=True)\n",
    "df.drop(df.columns[12], axis=1, inplace=True)\n",
    "df.head()"
   ]
  },
  {
   "cell_type": "markdown",
   "metadata": {},
   "source": [
    "## Arbitrage"
   ]
  },
  {
   "cell_type": "code",
   "execution_count": 13,
   "metadata": {},
   "outputs": [],
   "source": [
    "df['arb'] = 1/df['Home Odds'] + 1/df['Away Odds'] # + 1/df['Draw Odds']"
   ]
  },
  {
   "cell_type": "code",
   "execution_count": 14,
   "metadata": {},
   "outputs": [
    {
     "data": {
      "text/html": [
       "<div>\n",
       "<style scoped>\n",
       "    .dataframe tbody tr th:only-of-type {\n",
       "        vertical-align: middle;\n",
       "    }\n",
       "\n",
       "    .dataframe tbody tr th {\n",
       "        vertical-align: top;\n",
       "    }\n",
       "\n",
       "    .dataframe thead th {\n",
       "        text-align: right;\n",
       "    }\n",
       "</style>\n",
       "<table border=\"1\" class=\"dataframe\">\n",
       "  <thead>\n",
       "    <tr style=\"text-align: right;\">\n",
       "      <th></th>\n",
       "      <th>Date</th>\n",
       "      <th>Kick-off (local)</th>\n",
       "      <th>Home Team</th>\n",
       "      <th>Away Team</th>\n",
       "      <th>Home Score</th>\n",
       "      <th>Away Score</th>\n",
       "      <th>Play Off Game?</th>\n",
       "      <th>Over Time?</th>\n",
       "      <th>Home Odds</th>\n",
       "      <th>Draw Odds</th>\n",
       "      <th>Away Odds</th>\n",
       "      <th>Notes</th>\n",
       "      <th>payout</th>\n",
       "      <th>arb</th>\n",
       "    </tr>\n",
       "  </thead>\n",
       "  <tbody>\n",
       "    <tr>\n",
       "      <th>257</th>\n",
       "      <td>29-Jun-19</td>\n",
       "      <td>17:30</td>\n",
       "      <td>Newcastle Knights</td>\n",
       "      <td>Brisbane Broncos</td>\n",
       "      <td>26.0</td>\n",
       "      <td>12.0</td>\n",
       "      <td>NaN</td>\n",
       "      <td>NaN</td>\n",
       "      <td>1.72</td>\n",
       "      <td>19.45</td>\n",
       "      <td>2.46</td>\n",
       "      <td>NaN</td>\n",
       "      <td>344.0</td>\n",
       "      <td>0.987899</td>\n",
       "    </tr>\n",
       "    <tr>\n",
       "      <th>264</th>\n",
       "      <td>15-Jun-19</td>\n",
       "      <td>19:35</td>\n",
       "      <td>Parramatta Eels</td>\n",
       "      <td>Brisbane Broncos</td>\n",
       "      <td>38.0</td>\n",
       "      <td>10.0</td>\n",
       "      <td>NaN</td>\n",
       "      <td>NaN</td>\n",
       "      <td>1.73</td>\n",
       "      <td>19.10</td>\n",
       "      <td>2.63</td>\n",
       "      <td>NaN</td>\n",
       "      <td>346.0</td>\n",
       "      <td>0.958263</td>\n",
       "    </tr>\n",
       "    <tr>\n",
       "      <th>270</th>\n",
       "      <td>10-Jun-19</td>\n",
       "      <td>16:00</td>\n",
       "      <td>Canterbury Bulldogs</td>\n",
       "      <td>St George Dragons</td>\n",
       "      <td>12.0</td>\n",
       "      <td>36.0</td>\n",
       "      <td>NaN</td>\n",
       "      <td>NaN</td>\n",
       "      <td>2.95</td>\n",
       "      <td>19.16</td>\n",
       "      <td>1.59</td>\n",
       "      <td>NaN</td>\n",
       "      <td>318.0</td>\n",
       "      <td>0.967914</td>\n",
       "    </tr>\n",
       "    <tr>\n",
       "      <th>294</th>\n",
       "      <td>18-May-19</td>\n",
       "      <td>15:00</td>\n",
       "      <td>Gold Coast Titans</td>\n",
       "      <td>Canterbury Bulldogs</td>\n",
       "      <td>16.0</td>\n",
       "      <td>22.0</td>\n",
       "      <td>NaN</td>\n",
       "      <td>NaN</td>\n",
       "      <td>1.61</td>\n",
       "      <td>20.26</td>\n",
       "      <td>2.74</td>\n",
       "      <td>NaN</td>\n",
       "      <td>-200.0</td>\n",
       "      <td>0.986082</td>\n",
       "    </tr>\n",
       "  </tbody>\n",
       "</table>\n",
       "</div>"
      ],
      "text/plain": [
       "          Date Kick-off (local)            Home Team            Away Team  \\\n",
       "257  29-Jun-19            17:30    Newcastle Knights     Brisbane Broncos   \n",
       "264  15-Jun-19            19:35      Parramatta Eels     Brisbane Broncos   \n",
       "270  10-Jun-19            16:00  Canterbury Bulldogs    St George Dragons   \n",
       "294  18-May-19            15:00    Gold Coast Titans  Canterbury Bulldogs   \n",
       "\n",
       "     Home Score  Away Score Play Off Game? Over Time?  Home Odds  Draw Odds  \\\n",
       "257        26.0        12.0            NaN        NaN       1.72      19.45   \n",
       "264        38.0        10.0            NaN        NaN       1.73      19.10   \n",
       "270        12.0        36.0            NaN        NaN       2.95      19.16   \n",
       "294        16.0        22.0            NaN        NaN       1.61      20.26   \n",
       "\n",
       "     Away Odds Notes  payout       arb  \n",
       "257       2.46   NaN   344.0  0.987899  \n",
       "264       2.63   NaN   346.0  0.958263  \n",
       "270       1.59   NaN   318.0  0.967914  \n",
       "294       2.74   NaN  -200.0  0.986082  "
      ]
     },
     "execution_count": 14,
     "metadata": {},
     "output_type": "execute_result"
    }
   ],
   "source": [
    "df[df['arb']<1]"
   ]
  },
  {
   "cell_type": "markdown",
   "metadata": {},
   "source": [
    "## Playing the Favourite"
   ]
  },
  {
   "cell_type": "code",
   "execution_count": 37,
   "metadata": {},
   "outputs": [
    {
     "name": "stdout",
     "output_type": "stream",
     "text": [
      "213.84672839092215\n"
     ]
    }
   ],
   "source": [
    "def bet(r):\n",
    "    multiplier = min( r['Home Odds'] , r['Away Odds'] )\n",
    "    return 100 * max( r['Home Odds'] , r['Away Odds'] ) / multiplier\n",
    "\n",
    "df['bet'] = df.apply(bet, axis=1)\n",
    "print(df['bet'].sum()/df['bet'].count())"
   ]
  },
  {
   "cell_type": "code",
   "execution_count": 44,
   "metadata": {},
   "outputs": [],
   "source": [
    "def payout(r):\n",
    "    multiplier = min( r['Home Odds'] , r['Away Odds'] )  - 1\n",
    "    bet = r['bet']\n",
    "    # draw\n",
    "    if r['Home Score']==r['Away Score']:\n",
    "        return bet*-1\n",
    "    # home favourite\n",
    "    if r['Home Odds'] < r['Away Odds']:\n",
    "        # home loss\n",
    "        if r['Home Score'] < r['Away Score']:\n",
    "            return bet*-1\n",
    "        # home win\n",
    "        return bet*multiplier\n",
    "    # away favourite\n",
    "    if r['Away Odds'] < r['Home Odds']:\n",
    "        # away loss\n",
    "        if r['Away Score'] < r['Home Score']:\n",
    "            return bet*-1\n",
    "        # away win\n",
    "        return bet*multiplier\n",
    "    return 0"
   ]
  },
  {
   "cell_type": "code",
   "execution_count": 45,
   "metadata": {},
   "outputs": [],
   "source": [
    "df['favourite payout'] = df.apply(payout, axis=1)"
   ]
  },
  {
   "cell_type": "code",
   "execution_count": 46,
   "metadata": {},
   "outputs": [
    {
     "name": "stdout",
     "output_type": "stream",
     "text": [
      "-18356.673385221962\n"
     ]
    }
   ],
   "source": [
    "print(df['favourite payout'].sum())"
   ]
  },
  {
   "cell_type": "code",
   "execution_count": 47,
   "metadata": {},
   "outputs": [
    {
     "data": {
      "text/plain": [
       "Year\n",
       "2009.0    -651.412708\n",
       "2010.0   -3248.668000\n",
       "2011.0    -481.065444\n",
       "2012.0   -1445.826529\n",
       "2013.0   -2764.647105\n",
       "2014.0   -4520.374855\n",
       "2015.0   -4012.574690\n",
       "2016.0    1798.598067\n",
       "2017.0   -1231.777774\n",
       "2018.0   -2879.181230\n",
       "2019.0     283.736659\n",
       "2020.0     796.520223\n",
       "Name: favourite payout, dtype: float64"
      ]
     },
     "execution_count": 47,
     "metadata": {},
     "output_type": "execute_result"
    }
   ],
   "source": [
    "df['Date'] = pd.to_datetime(df['Date'])\n",
    "df['Year'] = df['Date'].dt.year \n",
    "df['Month'] = df['Date'].dt.month \n",
    "df.groupby('Year')['favourite payout'].sum()"
   ]
  },
  {
   "cell_type": "code",
   "execution_count": 48,
   "metadata": {},
   "outputs": [
    {
     "data": {
      "text/plain": [
       "Month\n",
       "3.0    -6139.547165\n",
       "4.0    -4354.980303\n",
       "5.0     -600.791353\n",
       "6.0    -1315.833041\n",
       "7.0    -2660.108671\n",
       "8.0    -4415.360836\n",
       "9.0      254.809425\n",
       "10.0     875.138559\n",
       "Name: favourite payout, dtype: float64"
      ]
     },
     "execution_count": 48,
     "metadata": {},
     "output_type": "execute_result"
    }
   ],
   "source": [
    "df.groupby('Month')['favourite payout'].sum()"
   ]
  },
  {
   "cell_type": "code",
   "execution_count": 49,
   "metadata": {},
   "outputs": [
    {
     "data": {
      "text/html": [
       "<div>\n",
       "<style scoped>\n",
       "    .dataframe tbody tr th:only-of-type {\n",
       "        vertical-align: middle;\n",
       "    }\n",
       "\n",
       "    .dataframe tbody tr th {\n",
       "        vertical-align: top;\n",
       "    }\n",
       "\n",
       "    .dataframe thead th {\n",
       "        text-align: right;\n",
       "    }\n",
       "</style>\n",
       "<table border=\"1\" class=\"dataframe\">\n",
       "  <thead>\n",
       "    <tr style=\"text-align: right;\">\n",
       "      <th></th>\n",
       "      <th>Date</th>\n",
       "      <th>Kick-off (local)</th>\n",
       "      <th>Home Team</th>\n",
       "      <th>Away Team</th>\n",
       "      <th>Home Score</th>\n",
       "      <th>Away Score</th>\n",
       "      <th>Play Off Game?</th>\n",
       "      <th>Over Time?</th>\n",
       "      <th>Home Odds</th>\n",
       "      <th>Draw Odds</th>\n",
       "      <th>Away Odds</th>\n",
       "      <th>Notes</th>\n",
       "      <th>payout</th>\n",
       "      <th>arb</th>\n",
       "      <th>Year</th>\n",
       "      <th>Month</th>\n",
       "      <th>favourite payout</th>\n",
       "      <th>bet</th>\n",
       "    </tr>\n",
       "  </thead>\n",
       "  <tbody>\n",
       "    <tr>\n",
       "      <th>0</th>\n",
       "      <td>2020-10-25</td>\n",
       "      <td>19:30</td>\n",
       "      <td>Penrith Panthers</td>\n",
       "      <td>Melbourne Storm</td>\n",
       "      <td>20.0</td>\n",
       "      <td>26.0</td>\n",
       "      <td>Y</td>\n",
       "      <td>NaN</td>\n",
       "      <td>2.24</td>\n",
       "      <td>19.22</td>\n",
       "      <td>1.70</td>\n",
       "      <td>NaN</td>\n",
       "      <td>340.0</td>\n",
       "      <td>1.034664</td>\n",
       "      <td>2020.0</td>\n",
       "      <td>10.0</td>\n",
       "      <td>92.235294</td>\n",
       "      <td>131.764706</td>\n",
       "    </tr>\n",
       "    <tr>\n",
       "      <th>1</th>\n",
       "      <td>2020-10-17</td>\n",
       "      <td>19:50</td>\n",
       "      <td>Penrith Panthers</td>\n",
       "      <td>South Sydney Rabbitohs</td>\n",
       "      <td>20.0</td>\n",
       "      <td>16.0</td>\n",
       "      <td>Y</td>\n",
       "      <td>NaN</td>\n",
       "      <td>1.38</td>\n",
       "      <td>23.20</td>\n",
       "      <td>3.18</td>\n",
       "      <td>NaN</td>\n",
       "      <td>276.0</td>\n",
       "      <td>1.039103</td>\n",
       "      <td>2020.0</td>\n",
       "      <td>10.0</td>\n",
       "      <td>87.565217</td>\n",
       "      <td>230.434783</td>\n",
       "    </tr>\n",
       "    <tr>\n",
       "      <th>2</th>\n",
       "      <td>2020-10-16</td>\n",
       "      <td>18:50</td>\n",
       "      <td>Melbourne Storm</td>\n",
       "      <td>Canberra Raiders</td>\n",
       "      <td>30.0</td>\n",
       "      <td>10.0</td>\n",
       "      <td>Y</td>\n",
       "      <td>NaN</td>\n",
       "      <td>1.45</td>\n",
       "      <td>21.40</td>\n",
       "      <td>2.86</td>\n",
       "      <td>Played at Suncorp Stadium</td>\n",
       "      <td>290.0</td>\n",
       "      <td>1.039306</td>\n",
       "      <td>2020.0</td>\n",
       "      <td>10.0</td>\n",
       "      <td>88.758621</td>\n",
       "      <td>197.241379</td>\n",
       "    </tr>\n",
       "    <tr>\n",
       "      <th>3</th>\n",
       "      <td>2020-10-10</td>\n",
       "      <td>19:50</td>\n",
       "      <td>Parramatta Eels</td>\n",
       "      <td>South Sydney Rabbitohs</td>\n",
       "      <td>24.0</td>\n",
       "      <td>38.0</td>\n",
       "      <td>Y</td>\n",
       "      <td>NaN</td>\n",
       "      <td>3.57</td>\n",
       "      <td>24.50</td>\n",
       "      <td>1.30</td>\n",
       "      <td>NaN</td>\n",
       "      <td>260.0</td>\n",
       "      <td>1.049343</td>\n",
       "      <td>2020.0</td>\n",
       "      <td>10.0</td>\n",
       "      <td>82.384615</td>\n",
       "      <td>274.615385</td>\n",
       "    </tr>\n",
       "    <tr>\n",
       "      <th>4</th>\n",
       "      <td>2020-10-09</td>\n",
       "      <td>19:50</td>\n",
       "      <td>Sydney Roosters</td>\n",
       "      <td>Canberra Raiders</td>\n",
       "      <td>18.0</td>\n",
       "      <td>22.0</td>\n",
       "      <td>Y</td>\n",
       "      <td>NaN</td>\n",
       "      <td>1.43</td>\n",
       "      <td>21.90</td>\n",
       "      <td>2.91</td>\n",
       "      <td>NaN</td>\n",
       "      <td>-200.0</td>\n",
       "      <td>1.042943</td>\n",
       "      <td>2020.0</td>\n",
       "      <td>10.0</td>\n",
       "      <td>-203.496503</td>\n",
       "      <td>203.496503</td>\n",
       "    </tr>\n",
       "  </tbody>\n",
       "</table>\n",
       "</div>"
      ],
      "text/plain": [
       "        Date Kick-off (local)         Home Team               Away Team  \\\n",
       "0 2020-10-25            19:30  Penrith Panthers         Melbourne Storm   \n",
       "1 2020-10-17            19:50  Penrith Panthers  South Sydney Rabbitohs   \n",
       "2 2020-10-16            18:50   Melbourne Storm        Canberra Raiders   \n",
       "3 2020-10-10            19:50   Parramatta Eels  South Sydney Rabbitohs   \n",
       "4 2020-10-09            19:50   Sydney Roosters        Canberra Raiders   \n",
       "\n",
       "   Home Score  Away Score Play Off Game? Over Time?  Home Odds  Draw Odds  \\\n",
       "0        20.0        26.0              Y        NaN       2.24      19.22   \n",
       "1        20.0        16.0              Y        NaN       1.38      23.20   \n",
       "2        30.0        10.0              Y        NaN       1.45      21.40   \n",
       "3        24.0        38.0              Y        NaN       3.57      24.50   \n",
       "4        18.0        22.0              Y        NaN       1.43      21.90   \n",
       "\n",
       "   Away Odds                      Notes  payout       arb    Year  Month  \\\n",
       "0       1.70                        NaN   340.0  1.034664  2020.0   10.0   \n",
       "1       3.18                        NaN   276.0  1.039103  2020.0   10.0   \n",
       "2       2.86  Played at Suncorp Stadium   290.0  1.039306  2020.0   10.0   \n",
       "3       1.30                        NaN   260.0  1.049343  2020.0   10.0   \n",
       "4       2.91                        NaN  -200.0  1.042943  2020.0   10.0   \n",
       "\n",
       "   favourite payout         bet  \n",
       "0         92.235294  131.764706  \n",
       "1         87.565217  230.434783  \n",
       "2         88.758621  197.241379  \n",
       "3         82.384615  274.615385  \n",
       "4       -203.496503  203.496503  "
      ]
     },
     "execution_count": 49,
     "metadata": {},
     "output_type": "execute_result"
    }
   ],
   "source": [
    "df.head()"
   ]
  },
  {
   "cell_type": "code",
   "execution_count": 50,
   "metadata": {},
   "outputs": [
    {
     "data": {
      "text/plain": [
       "<AxesSubplot:>"
      ]
     },
     "execution_count": 50,
     "metadata": {},
     "output_type": "execute_result"
    },
    {
     "data": {
      "image/png": "[encoded data removed]",
      "text/plain": [
       "<Figure size 432x288 with 1 Axes>"
      ]
     },
     "metadata": {
      "needs_background": "light"
     },
     "output_type": "display_data"
    }
   ],
   "source": [
    "df['favourite payout'].cumsum().plot()"
   ]
  },
  {
   "cell_type": "code",
   "execution_count": 51,
   "metadata": {},
   "outputs": [
    {
     "data": {
      "text/plain": [
       "<AxesSubplot:>"
      ]
     },
     "execution_count": 51,
     "metadata": {},
     "output_type": "execute_result"
    },
    {
     "data": {
      "image/png": "[encoded data removed]",
      "text/plain": [
       "<Figure size 432x288 with 1 Axes>"
      ]
     },
     "metadata": {
      "needs_background": "light"
     },
     "output_type": "display_data"
    }
   ],
   "source": [
    "df.query('Year==2020')['favourite payout'].cumsum().plot()"
   ]
  },
  {
   "cell_type": "code",
   "execution_count": null,
   "metadata": {},
   "outputs": [],
   "source": []
  }
 ],
 "metadata": {
  "kernelspec": {
   "display_name": "Python 3",
   "language": "python",
   "name": "python3"
  },
  "language_info": {
   "codemirror_mode": {
    "name": "ipython",
    "version": 3
   },
   "file_extension": ".py",
   "mimetype": "text/x-python",
   "name": "python",
   "nbconvert_exporter": "python",
   "pygments_lexer": "ipython3",
   "version": "3.8.5"
  }
 },
 "nbformat": 4,
 "nbformat_minor": 4
}
